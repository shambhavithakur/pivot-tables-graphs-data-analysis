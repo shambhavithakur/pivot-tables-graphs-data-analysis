{
 "cells": [
  {
   "cell_type": "markdown",
   "metadata": {
    "papermill": {
     "duration": 0.032111,
     "end_time": "2020-10-10T16:20:51.397962",
     "exception": false,
     "start_time": "2020-10-10T16:20:51.365851",
     "status": "completed"
    },
    "tags": []
   },
   "source": [
    "# Using Pandas' Pivot Tables and Graphs for Data Analysis"
   ]
  },
  {
   "cell_type": "code",
   "execution_count": 1,
   "metadata": {
    "_cell_guid": "b1076dfc-b9ad-4769-8c92-a6c4dae69d19",
    "_uuid": "8f2839f25d086af736a60e9eeb907d3b93b6e0e5",
    "execution": {
     "iopub.execute_input": "2020-10-10T16:20:51.464420Z",
     "iopub.status.busy": "2020-10-10T16:20:51.463658Z",
     "iopub.status.idle": "2020-10-10T16:20:51.467070Z",
     "shell.execute_reply": "2020-10-10T16:20:51.466418Z"
    },
    "papermill": {
     "duration": 0.039609,
     "end_time": "2020-10-10T16:20:51.467191",
     "exception": false,
     "start_time": "2020-10-10T16:20:51.427582",
     "status": "completed"
    },
    "tags": []
   },
   "outputs": [],
   "source": [
    "import numpy as np\n",
    "import pandas as pd\n",
    "\n",
    "pd.set_option('display.max_rows', 500)\n",
    "pd.set_option('display.max_columns', 500)\n",
    "pd.set_option('display.width', 1000)"
   ]
  },
  {
   "cell_type": "code",
   "execution_count": 2,
   "metadata": {
    "execution": {
     "iopub.execute_input": "2020-10-10T16:20:51.546259Z",
     "iopub.status.busy": "2020-10-10T16:20:51.545408Z",
     "iopub.status.idle": "2020-10-10T16:20:52.150518Z",
     "shell.execute_reply": "2020-10-10T16:20:52.149707Z"
    },
    "papermill": {
     "duration": 0.653523,
     "end_time": "2020-10-10T16:20:52.150656",
     "exception": false,
     "start_time": "2020-10-10T16:20:51.497133",
     "status": "completed"
    },
    "tags": []
   },
   "outputs": [],
   "source": [
    "births = pd.read_csv('https://raw.githubusercontent.com/jakevdp/data-CDCbirths/master/births.csv')"
   ]
  },
  {
   "cell_type": "code",
   "execution_count": 3,
   "metadata": {
    "execution": {
     "iopub.execute_input": "2020-10-10T16:20:52.218420Z",
     "iopub.status.busy": "2020-10-10T16:20:52.217640Z",
     "iopub.status.idle": "2020-10-10T16:20:52.222410Z",
     "shell.execute_reply": "2020-10-10T16:20:52.221848Z"
    },
    "papermill": {
     "duration": 0.041393,
     "end_time": "2020-10-10T16:20:52.222579",
     "exception": false,
     "start_time": "2020-10-10T16:20:52.181186",
     "status": "completed"
    },
    "tags": []
   },
   "outputs": [
    {
     "data": {
      "text/plain": [
       "(15547, 5)"
      ]
     },
     "execution_count": 3,
     "metadata": {},
     "output_type": "execute_result"
    }
   ],
   "source": [
    "births.shape"
   ]
  },
  {
   "cell_type": "code",
   "execution_count": 4,
   "metadata": {
    "execution": {
     "iopub.execute_input": "2020-10-10T16:20:52.297366Z",
     "iopub.status.busy": "2020-10-10T16:20:52.296181Z",
     "iopub.status.idle": "2020-10-10T16:20:52.312654Z",
     "shell.execute_reply": "2020-10-10T16:20:52.313652Z"
    },
    "papermill": {
     "duration": 0.060089,
     "end_time": "2020-10-10T16:20:52.313857",
     "exception": false,
     "start_time": "2020-10-10T16:20:52.253768",
     "status": "completed"
    },
    "tags": []
   },
   "outputs": [
    {
     "name": "stdout",
     "output_type": "stream",
     "text": [
      "<class 'pandas.core.frame.DataFrame'>\n",
      "RangeIndex: 15547 entries, 0 to 15546\n",
      "Data columns (total 5 columns):\n",
      " #   Column  Non-Null Count  Dtype  \n",
      "---  ------  --------------  -----  \n",
      " 0   year    15547 non-null  int64  \n",
      " 1   month   15547 non-null  int64  \n",
      " 2   day     15067 non-null  float64\n",
      " 3   gender  15547 non-null  object \n",
      " 4   births  15547 non-null  int64  \n",
      "dtypes: float64(1), int64(3), object(1)\n",
      "memory usage: 607.4+ KB\n"
     ]
    }
   ],
   "source": [
    "births.info()"
   ]
  },
  {
   "cell_type": "code",
   "execution_count": 5,
   "metadata": {
    "execution": {
     "iopub.execute_input": "2020-10-10T16:20:52.388280Z",
     "iopub.status.busy": "2020-10-10T16:20:52.387516Z",
     "iopub.status.idle": "2020-10-10T16:20:52.397067Z",
     "shell.execute_reply": "2020-10-10T16:20:52.397616Z"
    },
    "papermill": {
     "duration": 0.050761,
     "end_time": "2020-10-10T16:20:52.397788",
     "exception": false,
     "start_time": "2020-10-10T16:20:52.347027",
     "status": "completed"
    },
    "tags": []
   },
   "outputs": [
    {
     "data": {
      "text/html": [
       "<div>\n",
       "<style scoped>\n",
       "    .dataframe tbody tr th:only-of-type {\n",
       "        vertical-align: middle;\n",
       "    }\n",
       "\n",
       "    .dataframe tbody tr th {\n",
       "        vertical-align: top;\n",
       "    }\n",
       "\n",
       "    .dataframe thead th {\n",
       "        text-align: right;\n",
       "    }\n",
       "</style>\n",
       "<table border=\"1\" class=\"dataframe\">\n",
       "  <thead>\n",
       "    <tr style=\"text-align: right;\">\n",
       "      <th></th>\n",
       "      <th>year</th>\n",
       "      <th>month</th>\n",
       "      <th>day</th>\n",
       "      <th>gender</th>\n",
       "      <th>births</th>\n",
       "    </tr>\n",
       "  </thead>\n",
       "  <tbody>\n",
       "    <tr>\n",
       "      <th>0</th>\n",
       "      <td>1969</td>\n",
       "      <td>1</td>\n",
       "      <td>1.0</td>\n",
       "      <td>F</td>\n",
       "      <td>4046</td>\n",
       "    </tr>\n",
       "    <tr>\n",
       "      <th>1</th>\n",
       "      <td>1969</td>\n",
       "      <td>1</td>\n",
       "      <td>1.0</td>\n",
       "      <td>M</td>\n",
       "      <td>4440</td>\n",
       "    </tr>\n",
       "    <tr>\n",
       "      <th>2</th>\n",
       "      <td>1969</td>\n",
       "      <td>1</td>\n",
       "      <td>2.0</td>\n",
       "      <td>F</td>\n",
       "      <td>4454</td>\n",
       "    </tr>\n",
       "    <tr>\n",
       "      <th>3</th>\n",
       "      <td>1969</td>\n",
       "      <td>1</td>\n",
       "      <td>2.0</td>\n",
       "      <td>M</td>\n",
       "      <td>4548</td>\n",
       "    </tr>\n",
       "    <tr>\n",
       "      <th>4</th>\n",
       "      <td>1969</td>\n",
       "      <td>1</td>\n",
       "      <td>3.0</td>\n",
       "      <td>F</td>\n",
       "      <td>4548</td>\n",
       "    </tr>\n",
       "  </tbody>\n",
       "</table>\n",
       "</div>"
      ],
      "text/plain": [
       "   year  month  day gender  births\n",
       "0  1969      1  1.0      F    4046\n",
       "1  1969      1  1.0      M    4440\n",
       "2  1969      1  2.0      F    4454\n",
       "3  1969      1  2.0      M    4548\n",
       "4  1969      1  3.0      F    4548"
      ]
     },
     "execution_count": 5,
     "metadata": {},
     "output_type": "execute_result"
    }
   ],
   "source": [
    "births.head()"
   ]
  },
  {
   "cell_type": "code",
   "execution_count": 6,
   "metadata": {
    "execution": {
     "iopub.execute_input": "2020-10-10T16:20:52.503207Z",
     "iopub.status.busy": "2020-10-10T16:20:52.501653Z",
     "iopub.status.idle": "2020-10-10T16:20:52.533704Z",
     "shell.execute_reply": "2020-10-10T16:20:52.533020Z"
    },
    "papermill": {
     "duration": 0.103925,
     "end_time": "2020-10-10T16:20:52.533850",
     "exception": false,
     "start_time": "2020-10-10T16:20:52.429925",
     "status": "completed"
    },
    "tags": []
   },
   "outputs": [],
   "source": [
    "births['decade'] = 10 * (births.year // 10)"
   ]
  },
  {
   "cell_type": "code",
   "execution_count": 7,
   "metadata": {
    "execution": {
     "iopub.execute_input": "2020-10-10T16:20:52.621618Z",
     "iopub.status.busy": "2020-10-10T16:20:52.620766Z",
     "iopub.status.idle": "2020-10-10T16:20:52.657521Z",
     "shell.execute_reply": "2020-10-10T16:20:52.658119Z"
    },
    "papermill": {
     "duration": 0.090287,
     "end_time": "2020-10-10T16:20:52.658289",
     "exception": false,
     "start_time": "2020-10-10T16:20:52.568002",
     "status": "completed"
    },
    "tags": []
   },
   "outputs": [
    {
     "data": {
      "text/html": [
       "<div>\n",
       "<style scoped>\n",
       "    .dataframe tbody tr th:only-of-type {\n",
       "        vertical-align: middle;\n",
       "    }\n",
       "\n",
       "    .dataframe tbody tr th {\n",
       "        vertical-align: top;\n",
       "    }\n",
       "\n",
       "    .dataframe thead th {\n",
       "        text-align: right;\n",
       "    }\n",
       "</style>\n",
       "<table border=\"1\" class=\"dataframe\">\n",
       "  <thead>\n",
       "    <tr style=\"text-align: right;\">\n",
       "      <th>gender</th>\n",
       "      <th>F</th>\n",
       "      <th>M</th>\n",
       "    </tr>\n",
       "    <tr>\n",
       "      <th>decade</th>\n",
       "      <th></th>\n",
       "      <th></th>\n",
       "    </tr>\n",
       "  </thead>\n",
       "  <tbody>\n",
       "    <tr>\n",
       "      <th>1960</th>\n",
       "      <td>1753634</td>\n",
       "      <td>1846572</td>\n",
       "    </tr>\n",
       "    <tr>\n",
       "      <th>1970</th>\n",
       "      <td>16263075</td>\n",
       "      <td>17121550</td>\n",
       "    </tr>\n",
       "    <tr>\n",
       "      <th>1980</th>\n",
       "      <td>18310351</td>\n",
       "      <td>19243452</td>\n",
       "    </tr>\n",
       "    <tr>\n",
       "      <th>1990</th>\n",
       "      <td>19479454</td>\n",
       "      <td>20420553</td>\n",
       "    </tr>\n",
       "    <tr>\n",
       "      <th>2000</th>\n",
       "      <td>18229309</td>\n",
       "      <td>19106428</td>\n",
       "    </tr>\n",
       "  </tbody>\n",
       "</table>\n",
       "</div>"
      ],
      "text/plain": [
       "gender         F         M\n",
       "decade                    \n",
       "1960     1753634   1846572\n",
       "1970    16263075  17121550\n",
       "1980    18310351  19243452\n",
       "1990    19479454  20420553\n",
       "2000    18229309  19106428"
      ]
     },
     "execution_count": 7,
     "metadata": {},
     "output_type": "execute_result"
    }
   ],
   "source": [
    "# Obtaining the sum of births during each decade, grouped by gender\n",
    "\n",
    "births_decade = births.pivot_table('births', index='decade', columns='gender', aggfunc='sum')\n",
    "births_decade"
   ]
  },
  {
   "cell_type": "markdown",
   "metadata": {
    "papermill": {
     "duration": 0.032983,
     "end_time": "2020-10-10T16:20:52.724520",
     "exception": false,
     "start_time": "2020-10-10T16:20:52.691537",
     "status": "completed"
    },
    "tags": []
   },
   "source": [
    "The pivot table shows that more males were born in each decade than females. \n",
    "\n",
    "Let us view the annual trend in births graphically."
   ]
  },
  {
   "cell_type": "code",
   "execution_count": 8,
   "metadata": {
    "execution": {
     "iopub.execute_input": "2020-10-10T16:20:52.798909Z",
     "iopub.status.busy": "2020-10-10T16:20:52.798147Z",
     "iopub.status.idle": "2020-10-10T16:20:53.866433Z",
     "shell.execute_reply": "2020-10-10T16:20:53.865802Z"
    },
    "papermill": {
     "duration": 1.10911,
     "end_time": "2020-10-10T16:20:53.866590",
     "exception": false,
     "start_time": "2020-10-10T16:20:52.757480",
     "status": "completed"
    },
    "tags": []
   },
   "outputs": [],
   "source": [
    "import seaborn as sns\n",
    "import matplotlib.pyplot as plt\n",
    "from matplotlib.ticker import ScalarFormatter, FormatStrFormatter\n",
    "\n",
    "plt.style.use('fivethirtyeight')"
   ]
  },
  {
   "cell_type": "code",
   "execution_count": 9,
   "metadata": {
    "execution": {
     "iopub.execute_input": "2020-10-10T16:20:53.942932Z",
     "iopub.status.busy": "2020-10-10T16:20:53.942134Z",
     "iopub.status.idle": "2020-10-10T16:20:53.958200Z",
     "shell.execute_reply": "2020-10-10T16:20:53.957581Z"
    },
    "papermill": {
     "duration": 0.058435,
     "end_time": "2020-10-10T16:20:53.958337",
     "exception": false,
     "start_time": "2020-10-10T16:20:53.899902",
     "status": "completed"
    },
    "tags": []
   },
   "outputs": [],
   "source": [
    "births_annual = births.pivot_table('births', index='year', columns='gender', aggfunc='sum')"
   ]
  },
  {
   "cell_type": "code",
   "execution_count": 10,
   "metadata": {
    "execution": {
     "iopub.execute_input": "2020-10-10T16:20:54.033521Z",
     "iopub.status.busy": "2020-10-10T16:20:54.032738Z",
     "iopub.status.idle": "2020-10-10T16:20:54.343779Z",
     "shell.execute_reply": "2020-10-10T16:20:54.343152Z"
    },
    "papermill": {
     "duration": 0.352155,
     "end_time": "2020-10-10T16:20:54.343904",
     "exception": false,
     "start_time": "2020-10-10T16:20:53.991749",
     "status": "completed"
    },
    "tags": []
   },
   "outputs": [
    {
     "data": {
      "image/png": "[encoded data removed]",
      "text/plain": [
       "<Figure size 720x432 with 1 Axes>"
      ]
     },
     "metadata": {},
     "output_type": "display_data"
    }
   ],
   "source": [
    "fig_size1 = (10, 6)\n",
    "fig, ax = plt.subplots(figsize=fig_size1)\n",
    "\n",
    "ax = births_annual.plot(ax=ax)\n",
    "\n",
    "leg=plt.legend()\n",
    "leg.set_title('Gender')\n",
    "\n",
    "ax.get_yaxis().get_major_formatter().set_scientific(False)\n",
    "ax.set_title('The number of births per year, by gender')\n",
    "ax.set_xlabel('Year')\n",
    "ax.set_ylabel('Total births per year');"
   ]
  },
  {
   "cell_type": "markdown",
   "metadata": {
    "papermill": {
     "duration": 0.035509,
     "end_time": "2020-10-10T16:20:54.415274",
     "exception": false,
     "start_time": "2020-10-10T16:20:54.379765",
     "status": "completed"
    },
    "tags": []
   },
   "source": [
    "The graph indicates that the number of male births has exceeded the number of female births all through the years that are listed in our data&nbsp;set."
   ]
  },
  {
   "cell_type": "code",
   "execution_count": 11,
   "metadata": {
    "execution": {
     "iopub.execute_input": "2020-10-10T16:20:54.501353Z",
     "iopub.status.busy": "2020-10-10T16:20:54.500217Z",
     "iopub.status.idle": "2020-10-10T16:20:54.503828Z",
     "shell.execute_reply": "2020-10-10T16:20:54.504377Z"
    },
    "papermill": {
     "duration": 0.053336,
     "end_time": "2020-10-10T16:20:54.504559",
     "exception": false,
     "start_time": "2020-10-10T16:20:54.451223",
     "status": "completed"
    },
    "tags": []
   },
   "outputs": [
    {
     "data": {
      "text/html": [
       "<div>\n",
       "<style scoped>\n",
       "    .dataframe tbody tr th:only-of-type {\n",
       "        vertical-align: middle;\n",
       "    }\n",
       "\n",
       "    .dataframe tbody tr th {\n",
       "        vertical-align: top;\n",
       "    }\n",
       "\n",
       "    .dataframe thead th {\n",
       "        text-align: right;\n",
       "    }\n",
       "</style>\n",
       "<table border=\"1\" class=\"dataframe\">\n",
       "  <thead>\n",
       "    <tr style=\"text-align: right;\">\n",
       "      <th></th>\n",
       "      <th>year</th>\n",
       "      <th>month</th>\n",
       "      <th>day</th>\n",
       "      <th>gender</th>\n",
       "      <th>births</th>\n",
       "      <th>decade</th>\n",
       "    </tr>\n",
       "  </thead>\n",
       "  <tbody>\n",
       "    <tr>\n",
       "      <th>0</th>\n",
       "      <td>1969</td>\n",
       "      <td>1</td>\n",
       "      <td>1.0</td>\n",
       "      <td>F</td>\n",
       "      <td>4046</td>\n",
       "      <td>1960</td>\n",
       "    </tr>\n",
       "    <tr>\n",
       "      <th>1</th>\n",
       "      <td>1969</td>\n",
       "      <td>1</td>\n",
       "      <td>1.0</td>\n",
       "      <td>M</td>\n",
       "      <td>4440</td>\n",
       "      <td>1960</td>\n",
       "    </tr>\n",
       "    <tr>\n",
       "      <th>2</th>\n",
       "      <td>1969</td>\n",
       "      <td>1</td>\n",
       "      <td>2.0</td>\n",
       "      <td>F</td>\n",
       "      <td>4454</td>\n",
       "      <td>1960</td>\n",
       "    </tr>\n",
       "    <tr>\n",
       "      <th>3</th>\n",
       "      <td>1969</td>\n",
       "      <td>1</td>\n",
       "      <td>2.0</td>\n",
       "      <td>M</td>\n",
       "      <td>4548</td>\n",
       "      <td>1960</td>\n",
       "    </tr>\n",
       "    <tr>\n",
       "      <th>4</th>\n",
       "      <td>1969</td>\n",
       "      <td>1</td>\n",
       "      <td>3.0</td>\n",
       "      <td>F</td>\n",
       "      <td>4548</td>\n",
       "      <td>1960</td>\n",
       "    </tr>\n",
       "  </tbody>\n",
       "</table>\n",
       "</div>"
      ],
      "text/plain": [
       "   year  month  day gender  births  decade\n",
       "0  1969      1  1.0      F    4046    1960\n",
       "1  1969      1  1.0      M    4440    1960\n",
       "2  1969      1  2.0      F    4454    1960\n",
       "3  1969      1  2.0      M    4548    1960\n",
       "4  1969      1  3.0      F    4548    1960"
      ]
     },
     "execution_count": 11,
     "metadata": {},
     "output_type": "execute_result"
    }
   ],
   "source": [
    "births.head()"
   ]
  },
  {
   "cell_type": "markdown",
   "metadata": {
    "papermill": {
     "duration": 0.035971,
     "end_time": "2020-10-10T16:20:54.576879",
     "exception": false,
     "start_time": "2020-10-10T16:20:54.540908",
     "status": "completed"
    },
    "tags": []
   },
   "source": [
    "Next, we will retrieve additional information, such as the number of births by day of the week. But, before we do so, we will look for and remove outliers. We will focus on the day column, which has a higher probability of containing incorrect data because of typos. For example, the fields in the day column grouped by June—the 6$^{th}$ month—contain incorrect values, such as 31. Let us remove rows that contain these&nbsp;values."
   ]
  },
  {
   "cell_type": "code",
   "execution_count": 12,
   "metadata": {
    "execution": {
     "iopub.execute_input": "2020-10-10T16:20:54.655822Z",
     "iopub.status.busy": "2020-10-10T16:20:54.654884Z",
     "iopub.status.idle": "2020-10-10T16:20:54.660745Z",
     "shell.execute_reply": "2020-10-10T16:20:54.661300Z"
    },
    "papermill": {
     "duration": 0.048222,
     "end_time": "2020-10-10T16:20:54.661490",
     "exception": false,
     "start_time": "2020-10-10T16:20:54.613268",
     "status": "completed"
    },
    "tags": []
   },
   "outputs": [
    {
     "data": {
      "text/plain": [
       "array([ 1,  2,  3,  4,  5,  6,  7,  8,  9, 10, 11, 12])"
      ]
     },
     "execution_count": 12,
     "metadata": {},
     "output_type": "execute_result"
    }
   ],
   "source": [
    "# Retrieving unique values from the month column\n",
    "\n",
    "births.month.unique()"
   ]
  },
  {
   "cell_type": "code",
   "execution_count": 13,
   "metadata": {
    "execution": {
     "iopub.execute_input": "2020-10-10T16:20:54.743006Z",
     "iopub.status.busy": "2020-10-10T16:20:54.742240Z",
     "iopub.status.idle": "2020-10-10T16:20:54.757451Z",
     "shell.execute_reply": "2020-10-10T16:20:54.756710Z"
    },
    "papermill": {
     "duration": 0.058429,
     "end_time": "2020-10-10T16:20:54.757597",
     "exception": false,
     "start_time": "2020-10-10T16:20:54.699168",
     "status": "completed"
    },
    "tags": []
   },
   "outputs": [
    {
     "data": {
      "text/html": [
       "<div>\n",
       "<style scoped>\n",
       "    .dataframe tbody tr th:only-of-type {\n",
       "        vertical-align: middle;\n",
       "    }\n",
       "\n",
       "    .dataframe tbody tr th {\n",
       "        vertical-align: top;\n",
       "    }\n",
       "\n",
       "    .dataframe thead th {\n",
       "        text-align: right;\n",
       "    }\n",
       "</style>\n",
       "<table border=\"1\" class=\"dataframe\">\n",
       "  <thead>\n",
       "    <tr style=\"text-align: right;\">\n",
       "      <th></th>\n",
       "      <th>year</th>\n",
       "      <th>month</th>\n",
       "      <th>day</th>\n",
       "    </tr>\n",
       "  </thead>\n",
       "  <tbody>\n",
       "    <tr>\n",
       "      <th>375</th>\n",
       "      <td>1969</td>\n",
       "      <td>6</td>\n",
       "      <td>28.0</td>\n",
       "    </tr>\n",
       "    <tr>\n",
       "      <th>376</th>\n",
       "      <td>1969</td>\n",
       "      <td>6</td>\n",
       "      <td>29.0</td>\n",
       "    </tr>\n",
       "    <tr>\n",
       "      <th>377</th>\n",
       "      <td>1969</td>\n",
       "      <td>6</td>\n",
       "      <td>29.0</td>\n",
       "    </tr>\n",
       "    <tr>\n",
       "      <th>378</th>\n",
       "      <td>1969</td>\n",
       "      <td>6</td>\n",
       "      <td>30.0</td>\n",
       "    </tr>\n",
       "    <tr>\n",
       "      <th>379</th>\n",
       "      <td>1969</td>\n",
       "      <td>6</td>\n",
       "      <td>30.0</td>\n",
       "    </tr>\n",
       "    <tr>\n",
       "      <th>380</th>\n",
       "      <td>1969</td>\n",
       "      <td>6</td>\n",
       "      <td>31.0</td>\n",
       "    </tr>\n",
       "    <tr>\n",
       "      <th>381</th>\n",
       "      <td>1969</td>\n",
       "      <td>6</td>\n",
       "      <td>31.0</td>\n",
       "    </tr>\n",
       "    <tr>\n",
       "      <th>382</th>\n",
       "      <td>1969</td>\n",
       "      <td>6</td>\n",
       "      <td>99.0</td>\n",
       "    </tr>\n",
       "    <tr>\n",
       "      <th>383</th>\n",
       "      <td>1969</td>\n",
       "      <td>6</td>\n",
       "      <td>99.0</td>\n",
       "    </tr>\n",
       "    <tr>\n",
       "      <th>1088</th>\n",
       "      <td>1970</td>\n",
       "      <td>6</td>\n",
       "      <td>1.0</td>\n",
       "    </tr>\n",
       "  </tbody>\n",
       "</table>\n",
       "</div>"
      ],
      "text/plain": [
       "      year  month   day\n",
       "375   1969      6  28.0\n",
       "376   1969      6  29.0\n",
       "377   1969      6  29.0\n",
       "378   1969      6  30.0\n",
       "379   1969      6  30.0\n",
       "380   1969      6  31.0\n",
       "381   1969      6  31.0\n",
       "382   1969      6  99.0\n",
       "383   1969      6  99.0\n",
       "1088  1970      6   1.0"
      ]
     },
     "execution_count": 13,
     "metadata": {},
     "output_type": "execute_result"
    }
   ],
   "source": [
    "# Exploring some of the rows, grouped by the month of June\n",
    "\n",
    "births[births.month==6].iloc[55:65, 0:3]"
   ]
  },
  {
   "cell_type": "code",
   "execution_count": 14,
   "metadata": {
    "execution": {
     "iopub.execute_input": "2020-10-10T16:20:54.842445Z",
     "iopub.status.busy": "2020-10-10T16:20:54.840940Z",
     "iopub.status.idle": "2020-10-10T16:20:54.846979Z",
     "shell.execute_reply": "2020-10-10T16:20:54.846333Z"
    },
    "papermill": {
     "duration": 0.051924,
     "end_time": "2020-10-10T16:20:54.847123",
     "exception": false,
     "start_time": "2020-10-10T16:20:54.795199",
     "status": "completed"
    },
    "tags": []
   },
   "outputs": [
    {
     "data": {
      "text/plain": [
       "array([ 1.,  2.,  3.,  4.,  5.,  6.,  7.,  8.,  9., 10., 11., 12., 13.,\n",
       "       14., 15., 16., 17., 18., 19., 20., 21., 22., 23., 24., 25., 26.,\n",
       "       27., 28., 29., 30., 31., 99., nan])"
      ]
     },
     "execution_count": 14,
     "metadata": {},
     "output_type": "execute_result"
    }
   ],
   "source": [
    "births[births.month==6].day.unique()"
   ]
  },
  {
   "cell_type": "code",
   "execution_count": 15,
   "metadata": {
    "execution": {
     "iopub.execute_input": "2020-10-10T16:20:54.931982Z",
     "iopub.status.busy": "2020-10-10T16:20:54.931208Z",
     "iopub.status.idle": "2020-10-10T16:20:54.945046Z",
     "shell.execute_reply": "2020-10-10T16:20:54.944404Z"
    },
    "papermill": {
     "duration": 0.059529,
     "end_time": "2020-10-10T16:20:54.945180",
     "exception": false,
     "start_time": "2020-10-10T16:20:54.885651",
     "status": "completed"
    },
    "tags": []
   },
   "outputs": [],
   "source": [
    "# Using sigma clipping to remove outliers\n",
    "\n",
    "quartiles = np.percentile(births.births, [25, 50, 75])\n",
    "\n",
    "mu = quartiles[1]\n",
    "sig = 0.74 * (quartiles[2] - quartiles[0])\n",
    "\n",
    "births = births.query('(births > @mu - 5 * @sig) & (births < @mu + 5 * @sig)')"
   ]
  },
  {
   "cell_type": "markdown",
   "metadata": {
    "papermill": {
     "duration": 0.03808,
     "end_time": "2020-10-10T16:20:55.021730",
     "exception": false,
     "start_time": "2020-10-10T16:20:54.983650",
     "status": "completed"
    },
    "tags": []
   },
   "source": [
    "Now, the day values for June don't contain outliers."
   ]
  },
  {
   "cell_type": "code",
   "execution_count": 16,
   "metadata": {
    "execution": {
     "iopub.execute_input": "2020-10-10T16:20:55.106549Z",
     "iopub.status.busy": "2020-10-10T16:20:55.105707Z",
     "iopub.status.idle": "2020-10-10T16:20:55.112941Z",
     "shell.execute_reply": "2020-10-10T16:20:55.113758Z"
    },
    "papermill": {
     "duration": 0.053789,
     "end_time": "2020-10-10T16:20:55.113999",
     "exception": false,
     "start_time": "2020-10-10T16:20:55.060210",
     "status": "completed"
    },
    "tags": []
   },
   "outputs": [
    {
     "data": {
      "text/plain": [
       "array([ 1.,  2.,  3.,  4.,  5.,  6.,  7.,  8.,  9., 10., 11., 12., 13.,\n",
       "       14., 15., 16., 17., 18., 19., 20., 21., 22., 23., 24., 25., 26.,\n",
       "       27., 28., 29., 30.])"
      ]
     },
     "execution_count": 16,
     "metadata": {},
     "output_type": "execute_result"
    }
   ],
   "source": [
    "births[births.month==6].day.unique()"
   ]
  },
  {
   "cell_type": "code",
   "execution_count": 17,
   "metadata": {
    "execution": {
     "iopub.execute_input": "2020-10-10T16:20:55.213824Z",
     "iopub.status.busy": "2020-10-10T16:20:55.213001Z",
     "iopub.status.idle": "2020-10-10T16:20:55.227221Z",
     "shell.execute_reply": "2020-10-10T16:20:55.226157Z"
    },
    "papermill": {
     "duration": 0.067721,
     "end_time": "2020-10-10T16:20:55.227397",
     "exception": false,
     "start_time": "2020-10-10T16:20:55.159676",
     "status": "completed"
    },
    "tags": []
   },
   "outputs": [
    {
     "name": "stdout",
     "output_type": "stream",
     "text": [
      "<class 'pandas.core.frame.DataFrame'>\n",
      "Int64Index: 14610 entries, 0 to 15066\n",
      "Data columns (total 6 columns):\n",
      " #   Column  Non-Null Count  Dtype  \n",
      "---  ------  --------------  -----  \n",
      " 0   year    14610 non-null  int64  \n",
      " 1   month   14610 non-null  int64  \n",
      " 2   day     14610 non-null  float64\n",
      " 3   gender  14610 non-null  object \n",
      " 4   births  14610 non-null  int64  \n",
      " 5   decade  14610 non-null  int64  \n",
      "dtypes: float64(1), int64(4), object(1)\n",
      "memory usage: 799.0+ KB\n"
     ]
    }
   ],
   "source": [
    "births.info()"
   ]
  },
  {
   "cell_type": "markdown",
   "metadata": {
    "papermill": {
     "duration": 0.059166,
     "end_time": "2020-10-10T16:20:55.344388",
     "exception": false,
     "start_time": "2020-10-10T16:20:55.285222",
     "status": "completed"
    },
    "tags": []
   },
   "source": [
    "Let us also set the data type of the day column to integer."
   ]
  },
  {
   "cell_type": "code",
   "execution_count": 18,
   "metadata": {
    "execution": {
     "iopub.execute_input": "2020-10-10T16:20:55.468539Z",
     "iopub.status.busy": "2020-10-10T16:20:55.467426Z",
     "iopub.status.idle": "2020-10-10T16:20:55.472302Z",
     "shell.execute_reply": "2020-10-10T16:20:55.471241Z"
    },
    "papermill": {
     "duration": 0.071501,
     "end_time": "2020-10-10T16:20:55.472546",
     "exception": false,
     "start_time": "2020-10-10T16:20:55.401045",
     "status": "completed"
    },
    "tags": []
   },
   "outputs": [],
   "source": [
    "births.day = births.day.astype('int')"
   ]
  },
  {
   "cell_type": "markdown",
   "metadata": {
    "papermill": {
     "duration": 0.039897,
     "end_time": "2020-10-10T16:20:55.561089",
     "exception": false,
     "start_time": "2020-10-10T16:20:55.521192",
     "status": "completed"
    },
    "tags": []
   },
   "source": [
    "Next, we will add a day-of-week column to the data set. We will create a Date index based on the year, month, and day values and then extract the day of the week from the index to create the new column."
   ]
  },
  {
   "cell_type": "code",
   "execution_count": 19,
   "metadata": {
    "execution": {
     "iopub.execute_input": "2020-10-10T16:20:55.652303Z",
     "iopub.status.busy": "2020-10-10T16:20:55.650278Z",
     "iopub.status.idle": "2020-10-10T16:20:55.673415Z",
     "shell.execute_reply": "2020-10-10T16:20:55.672500Z"
    },
    "papermill": {
     "duration": 0.072404,
     "end_time": "2020-10-10T16:20:55.673635",
     "exception": false,
     "start_time": "2020-10-10T16:20:55.601231",
     "status": "completed"
    },
    "tags": []
   },
   "outputs": [],
   "source": [
    "births.index = pd.to_datetime(10000 * births.year + 100 * births.month + births.day, format='%Y%m%d')"
   ]
  },
  {
   "cell_type": "code",
   "execution_count": 20,
   "metadata": {
    "execution": {
     "iopub.execute_input": "2020-10-10T16:20:55.774348Z",
     "iopub.status.busy": "2020-10-10T16:20:55.773333Z",
     "iopub.status.idle": "2020-10-10T16:20:55.777197Z",
     "shell.execute_reply": "2020-10-10T16:20:55.778018Z"
    },
    "papermill": {
     "duration": 0.056966,
     "end_time": "2020-10-10T16:20:55.778225",
     "exception": false,
     "start_time": "2020-10-10T16:20:55.721259",
     "status": "completed"
    },
    "tags": []
   },
   "outputs": [
    {
     "data": {
      "text/html": [
       "<div>\n",
       "<style scoped>\n",
       "    .dataframe tbody tr th:only-of-type {\n",
       "        vertical-align: middle;\n",
       "    }\n",
       "\n",
       "    .dataframe tbody tr th {\n",
       "        vertical-align: top;\n",
       "    }\n",
       "\n",
       "    .dataframe thead th {\n",
       "        text-align: right;\n",
       "    }\n",
       "</style>\n",
       "<table border=\"1\" class=\"dataframe\">\n",
       "  <thead>\n",
       "    <tr style=\"text-align: right;\">\n",
       "      <th></th>\n",
       "      <th>year</th>\n",
       "      <th>month</th>\n",
       "      <th>day</th>\n",
       "      <th>gender</th>\n",
       "      <th>births</th>\n",
       "      <th>decade</th>\n",
       "    </tr>\n",
       "  </thead>\n",
       "  <tbody>\n",
       "    <tr>\n",
       "      <th>1969-01-01</th>\n",
       "      <td>1969</td>\n",
       "      <td>1</td>\n",
       "      <td>1</td>\n",
       "      <td>F</td>\n",
       "      <td>4046</td>\n",
       "      <td>1960</td>\n",
       "    </tr>\n",
       "    <tr>\n",
       "      <th>1969-01-01</th>\n",
       "      <td>1969</td>\n",
       "      <td>1</td>\n",
       "      <td>1</td>\n",
       "      <td>M</td>\n",
       "      <td>4440</td>\n",
       "      <td>1960</td>\n",
       "    </tr>\n",
       "    <tr>\n",
       "      <th>1969-01-02</th>\n",
       "      <td>1969</td>\n",
       "      <td>1</td>\n",
       "      <td>2</td>\n",
       "      <td>F</td>\n",
       "      <td>4454</td>\n",
       "      <td>1960</td>\n",
       "    </tr>\n",
       "  </tbody>\n",
       "</table>\n",
       "</div>"
      ],
      "text/plain": [
       "            year  month  day gender  births  decade\n",
       "1969-01-01  1969      1    1      F    4046    1960\n",
       "1969-01-01  1969      1    1      M    4440    1960\n",
       "1969-01-02  1969      1    2      F    4454    1960"
      ]
     },
     "execution_count": 20,
     "metadata": {},
     "output_type": "execute_result"
    }
   ],
   "source": [
    "births.head(3)"
   ]
  },
  {
   "cell_type": "code",
   "execution_count": 21,
   "metadata": {
    "execution": {
     "iopub.execute_input": "2020-10-10T16:20:55.871202Z",
     "iopub.status.busy": "2020-10-10T16:20:55.870228Z",
     "iopub.status.idle": "2020-10-10T16:20:55.879536Z",
     "shell.execute_reply": "2020-10-10T16:20:55.878489Z"
    },
    "papermill": {
     "duration": 0.055299,
     "end_time": "2020-10-10T16:20:55.879721",
     "exception": false,
     "start_time": "2020-10-10T16:20:55.824422",
     "status": "completed"
    },
    "tags": []
   },
   "outputs": [],
   "source": [
    "births['day_of_week'] = births.index.dayofweek"
   ]
  },
  {
   "cell_type": "code",
   "execution_count": 22,
   "metadata": {
    "execution": {
     "iopub.execute_input": "2020-10-10T16:20:55.989591Z",
     "iopub.status.busy": "2020-10-10T16:20:55.988435Z",
     "iopub.status.idle": "2020-10-10T16:20:55.995012Z",
     "shell.execute_reply": "2020-10-10T16:20:55.994360Z"
    },
    "papermill": {
     "duration": 0.0673,
     "end_time": "2020-10-10T16:20:55.995155",
     "exception": false,
     "start_time": "2020-10-10T16:20:55.927855",
     "status": "completed"
    },
    "tags": []
   },
   "outputs": [
    {
     "data": {
      "text/html": [
       "<div>\n",
       "<style scoped>\n",
       "    .dataframe tbody tr th:only-of-type {\n",
       "        vertical-align: middle;\n",
       "    }\n",
       "\n",
       "    .dataframe tbody tr th {\n",
       "        vertical-align: top;\n",
       "    }\n",
       "\n",
       "    .dataframe thead th {\n",
       "        text-align: right;\n",
       "    }\n",
       "</style>\n",
       "<table border=\"1\" class=\"dataframe\">\n",
       "  <thead>\n",
       "    <tr style=\"text-align: right;\">\n",
       "      <th></th>\n",
       "      <th>year</th>\n",
       "      <th>month</th>\n",
       "      <th>day</th>\n",
       "      <th>gender</th>\n",
       "      <th>births</th>\n",
       "      <th>decade</th>\n",
       "      <th>day_of_week</th>\n",
       "    </tr>\n",
       "  </thead>\n",
       "  <tbody>\n",
       "    <tr>\n",
       "      <th>1969-01-01</th>\n",
       "      <td>1969</td>\n",
       "      <td>1</td>\n",
       "      <td>1</td>\n",
       "      <td>F</td>\n",
       "      <td>4046</td>\n",
       "      <td>1960</td>\n",
       "      <td>2</td>\n",
       "    </tr>\n",
       "    <tr>\n",
       "      <th>1969-01-01</th>\n",
       "      <td>1969</td>\n",
       "      <td>1</td>\n",
       "      <td>1</td>\n",
       "      <td>M</td>\n",
       "      <td>4440</td>\n",
       "      <td>1960</td>\n",
       "      <td>2</td>\n",
       "    </tr>\n",
       "    <tr>\n",
       "      <th>1969-01-02</th>\n",
       "      <td>1969</td>\n",
       "      <td>1</td>\n",
       "      <td>2</td>\n",
       "      <td>F</td>\n",
       "      <td>4454</td>\n",
       "      <td>1960</td>\n",
       "      <td>3</td>\n",
       "    </tr>\n",
       "  </tbody>\n",
       "</table>\n",
       "</div>"
      ],
      "text/plain": [
       "            year  month  day gender  births  decade  day_of_week\n",
       "1969-01-01  1969      1    1      F    4046    1960            2\n",
       "1969-01-01  1969      1    1      M    4440    1960            2\n",
       "1969-01-02  1969      1    2      F    4454    1960            3"
      ]
     },
     "execution_count": 22,
     "metadata": {},
     "output_type": "execute_result"
    }
   ],
   "source": [
    "births.head(3)"
   ]
  },
  {
   "cell_type": "markdown",
   "metadata": {
    "papermill": {
     "duration": 0.041618,
     "end_time": "2020-10-10T16:20:56.078594",
     "exception": false,
     "start_time": "2020-10-10T16:20:56.036976",
     "status": "completed"
    },
    "tags": []
   },
   "source": [
    "Now, we will plot the number of births by day of week, across decades."
   ]
  },
  {
   "cell_type": "code",
   "execution_count": 23,
   "metadata": {
    "execution": {
     "iopub.execute_input": "2020-10-10T16:20:56.168424Z",
     "iopub.status.busy": "2020-10-10T16:20:56.167686Z",
     "iopub.status.idle": "2020-10-10T16:20:56.186541Z",
     "shell.execute_reply": "2020-10-10T16:20:56.185880Z"
    },
    "papermill": {
     "duration": 0.066582,
     "end_time": "2020-10-10T16:20:56.186668",
     "exception": false,
     "start_time": "2020-10-10T16:20:56.120086",
     "status": "completed"
    },
    "tags": []
   },
   "outputs": [],
   "source": [
    "births_day_week = births.pivot_table('births', index='day_of_week', \n",
    "                                     columns='decade', aggfunc='mean')"
   ]
  },
  {
   "cell_type": "code",
   "execution_count": 24,
   "metadata": {
    "execution": {
     "iopub.execute_input": "2020-10-10T16:20:56.297212Z",
     "iopub.status.busy": "2020-10-10T16:20:56.291730Z",
     "iopub.status.idle": "2020-10-10T16:20:56.499516Z",
     "shell.execute_reply": "2020-10-10T16:20:56.498781Z"
    },
    "papermill": {
     "duration": 0.271031,
     "end_time": "2020-10-10T16:20:56.499650",
     "exception": false,
     "start_time": "2020-10-10T16:20:56.228619",
     "status": "completed"
    },
    "tags": []
   },
   "outputs": [
    {
     "data": {
      "image/png": "[encoded data removed]",
      "text/plain": [
       "<Figure size 720x432 with 1 Axes>"
      ]
     },
     "metadata": {},
     "output_type": "display_data"
    }
   ],
   "source": [
    "fig, ax = plt.subplots(figsize=fig_size1)\n",
    "\n",
    "ax = births_day_week.plot(ax=ax)\n",
    "\n",
    "leg=plt.legend()\n",
    "leg.set_title('Decade')\n",
    "\n",
    "ax.set_title('The number of births per decade, by day of week')\n",
    "ax.set_xlabel('Day of week')\n",
    "ax.set_ylabel('Mean births per day')\n",
    "\n",
    "ax.set_xticks(range(7))\n",
    "ax.set_xticklabels(['Mon', 'Tues', 'Wed', 'Thurs', 'Fri', 'Sat', 'Sun']);"
   ]
  },
  {
   "cell_type": "markdown",
   "metadata": {
    "papermill": {
     "duration": 0.043766,
     "end_time": "2020-10-10T16:20:56.588048",
     "exception": false,
     "start_time": "2020-10-10T16:20:56.544282",
     "status": "completed"
    },
    "tags": []
   },
   "source": [
    "According to the graph, fewer births take place on weekends than on weekdays\n",
    "\n",
    "Next, let us plot the average number of births by day of the year. We will begin by grouping the available data by day, within each month. "
   ]
  },
  {
   "cell_type": "code",
   "execution_count": 25,
   "metadata": {
    "execution": {
     "iopub.execute_input": "2020-10-10T16:20:56.682978Z",
     "iopub.status.busy": "2020-10-10T16:20:56.682221Z",
     "iopub.status.idle": "2020-10-10T16:20:56.698894Z",
     "shell.execute_reply": "2020-10-10T16:20:56.698246Z"
    },
    "papermill": {
     "duration": 0.066674,
     "end_time": "2020-10-10T16:20:56.699033",
     "exception": false,
     "start_time": "2020-10-10T16:20:56.632359",
     "status": "completed"
    },
    "tags": []
   },
   "outputs": [],
   "source": [
    "births_by_day = births.pivot_table('births', [births.index.month, births.index.day])"
   ]
  },
  {
   "cell_type": "code",
   "execution_count": 26,
   "metadata": {
    "execution": {
     "iopub.execute_input": "2020-10-10T16:20:56.798895Z",
     "iopub.status.busy": "2020-10-10T16:20:56.798015Z",
     "iopub.status.idle": "2020-10-10T16:20:56.802729Z",
     "shell.execute_reply": "2020-10-10T16:20:56.803244Z"
    },
    "papermill": {
     "duration": 0.059836,
     "end_time": "2020-10-10T16:20:56.803412",
     "exception": false,
     "start_time": "2020-10-10T16:20:56.743576",
     "status": "completed"
    },
    "tags": []
   },
   "outputs": [
    {
     "data": {
      "text/html": [
       "<div>\n",
       "<style scoped>\n",
       "    .dataframe tbody tr th:only-of-type {\n",
       "        vertical-align: middle;\n",
       "    }\n",
       "\n",
       "    .dataframe tbody tr th {\n",
       "        vertical-align: top;\n",
       "    }\n",
       "\n",
       "    .dataframe thead th {\n",
       "        text-align: right;\n",
       "    }\n",
       "</style>\n",
       "<table border=\"1\" class=\"dataframe\">\n",
       "  <thead>\n",
       "    <tr style=\"text-align: right;\">\n",
       "      <th></th>\n",
       "      <th></th>\n",
       "      <th>births</th>\n",
       "    </tr>\n",
       "  </thead>\n",
       "  <tbody>\n",
       "    <tr>\n",
       "      <th rowspan=\"5\" valign=\"top\">1</th>\n",
       "      <th>1</th>\n",
       "      <td>4009.225</td>\n",
       "    </tr>\n",
       "    <tr>\n",
       "      <th>2</th>\n",
       "      <td>4247.400</td>\n",
       "    </tr>\n",
       "    <tr>\n",
       "      <th>3</th>\n",
       "      <td>4500.900</td>\n",
       "    </tr>\n",
       "    <tr>\n",
       "      <th>4</th>\n",
       "      <td>4571.350</td>\n",
       "    </tr>\n",
       "    <tr>\n",
       "      <th>5</th>\n",
       "      <td>4603.625</td>\n",
       "    </tr>\n",
       "  </tbody>\n",
       "</table>\n",
       "</div>"
      ],
      "text/plain": [
       "       births\n",
       "1 1  4009.225\n",
       "  2  4247.400\n",
       "  3  4500.900\n",
       "  4  4571.350\n",
       "  5  4603.625"
      ]
     },
     "execution_count": 26,
     "metadata": {},
     "output_type": "execute_result"
    }
   ],
   "source": [
    "births_by_day.head()"
   ]
  },
  {
   "cell_type": "markdown",
   "metadata": {
    "papermill": {
     "duration": 0.044662,
     "end_time": "2020-10-10T16:20:56.892933",
     "exception": false,
     "start_time": "2020-10-10T16:20:56.848271",
     "status": "completed"
    },
    "tags": []
   },
   "source": [
    "And now we will draw the plot."
   ]
  },
  {
   "cell_type": "code",
   "execution_count": 27,
   "metadata": {
    "execution": {
     "iopub.execute_input": "2020-10-10T16:20:57.001769Z",
     "iopub.status.busy": "2020-10-10T16:20:57.000840Z",
     "iopub.status.idle": "2020-10-10T16:20:57.194587Z",
     "shell.execute_reply": "2020-10-10T16:20:57.193896Z"
    },
    "papermill": {
     "duration": 0.256642,
     "end_time": "2020-10-10T16:20:57.194719",
     "exception": false,
     "start_time": "2020-10-10T16:20:56.938077",
     "status": "completed"
    },
    "tags": []
   },
   "outputs": [
    {
     "data": {
      "image/png": "[encoded data removed]",
      "text/plain": [
       "<Figure size 864x432 with 1 Axes>"
      ]
     },
     "metadata": {},
     "output_type": "display_data"
    }
   ],
   "source": [
    "fig, ax = plt.subplots(figsize=(12,6))\n",
    "\n",
    "ax = births_by_day.plot(ax=ax)\n",
    "\n",
    "plt.legend().remove()\n",
    "\n",
    "ax.set_title('The number of births per day, within each month')\n",
    "ax.set_xlabel('Day')\n",
    "ax.set_ylabel('Mean births per day');"
   ]
  },
  {
   "cell_type": "markdown",
   "metadata": {
    "papermill": {
     "duration": 0.052362,
     "end_time": "2020-10-10T16:20:57.295138",
     "exception": false,
     "start_time": "2020-10-10T16:20:57.242776",
     "status": "completed"
    },
    "tags": []
   },
   "source": [
    "To be able to display month names instead of tuples along the x axis, we will change the index of the births_by_day data frame. We will replace the index with a dummy leap-year variable so that all possible days in a year are accounted for."
   ]
  },
  {
   "cell_type": "code",
   "execution_count": 28,
   "metadata": {
    "execution": {
     "iopub.execute_input": "2020-10-10T16:20:57.402945Z",
     "iopub.status.busy": "2020-10-10T16:20:57.401814Z",
     "iopub.status.idle": "2020-10-10T16:20:57.405307Z",
     "shell.execute_reply": "2020-10-10T16:20:57.404673Z"
    },
    "papermill": {
     "duration": 0.05958,
     "end_time": "2020-10-10T16:20:57.405435",
     "exception": false,
     "start_time": "2020-10-10T16:20:57.345855",
     "status": "completed"
    },
    "tags": []
   },
   "outputs": [],
   "source": [
    "from datetime import datetime\n",
    "\n",
    "births_by_day.index = [datetime(2012, month, day) for (month, day) in births_by_day.index]"
   ]
  },
  {
   "cell_type": "code",
   "execution_count": 29,
   "metadata": {
    "execution": {
     "iopub.execute_input": "2020-10-10T16:20:57.512657Z",
     "iopub.status.busy": "2020-10-10T16:20:57.511749Z",
     "iopub.status.idle": "2020-10-10T16:20:57.516961Z",
     "shell.execute_reply": "2020-10-10T16:20:57.516369Z"
    },
    "papermill": {
     "duration": 0.063835,
     "end_time": "2020-10-10T16:20:57.517094",
     "exception": false,
     "start_time": "2020-10-10T16:20:57.453259",
     "status": "completed"
    },
    "tags": []
   },
   "outputs": [
    {
     "data": {
      "text/html": [
       "<div>\n",
       "<style scoped>\n",
       "    .dataframe tbody tr th:only-of-type {\n",
       "        vertical-align: middle;\n",
       "    }\n",
       "\n",
       "    .dataframe tbody tr th {\n",
       "        vertical-align: top;\n",
       "    }\n",
       "\n",
       "    .dataframe thead th {\n",
       "        text-align: right;\n",
       "    }\n",
       "</style>\n",
       "<table border=\"1\" class=\"dataframe\">\n",
       "  <thead>\n",
       "    <tr style=\"text-align: right;\">\n",
       "      <th></th>\n",
       "      <th>births</th>\n",
       "    </tr>\n",
       "  </thead>\n",
       "  <tbody>\n",
       "    <tr>\n",
       "      <th>2012-01-01</th>\n",
       "      <td>4009.225</td>\n",
       "    </tr>\n",
       "    <tr>\n",
       "      <th>2012-01-02</th>\n",
       "      <td>4247.400</td>\n",
       "    </tr>\n",
       "    <tr>\n",
       "      <th>2012-01-03</th>\n",
       "      <td>4500.900</td>\n",
       "    </tr>\n",
       "    <tr>\n",
       "      <th>2012-01-04</th>\n",
       "      <td>4571.350</td>\n",
       "    </tr>\n",
       "    <tr>\n",
       "      <th>2012-01-05</th>\n",
       "      <td>4603.625</td>\n",
       "    </tr>\n",
       "  </tbody>\n",
       "</table>\n",
       "</div>"
      ],
      "text/plain": [
       "              births\n",
       "2012-01-01  4009.225\n",
       "2012-01-02  4247.400\n",
       "2012-01-03  4500.900\n",
       "2012-01-04  4571.350\n",
       "2012-01-05  4603.625"
      ]
     },
     "execution_count": 29,
     "metadata": {},
     "output_type": "execute_result"
    }
   ],
   "source": [
    "births_by_day.head()"
   ]
  },
  {
   "cell_type": "markdown",
   "metadata": {
    "papermill": {
     "duration": 0.047962,
     "end_time": "2020-10-10T16:20:57.613571",
     "exception": false,
     "start_time": "2020-10-10T16:20:57.565609",
     "status": "completed"
    },
    "tags": []
   },
   "source": [
    "We will now redraw the graph, annotating specific days."
   ]
  },
  {
   "cell_type": "code",
   "execution_count": 30,
   "metadata": {
    "execution": {
     "iopub.execute_input": "2020-10-10T16:20:57.731964Z",
     "iopub.status.busy": "2020-10-10T16:20:57.725073Z",
     "iopub.status.idle": "2020-10-10T16:20:58.187984Z",
     "shell.execute_reply": "2020-10-10T16:20:58.188866Z"
    },
    "papermill": {
     "duration": 0.527214,
     "end_time": "2020-10-10T16:20:58.189082",
     "exception": false,
     "start_time": "2020-10-10T16:20:57.661868",
     "status": "completed"
    },
    "tags": []
   },
   "outputs": [
    {
     "data": {
      "image/png": "[encoded data removed]",
      "text/plain": [
       "<Figure size 864x432 with 1 Axes>"
      ]
     },
     "metadata": {},
     "output_type": "display_data"
    }
   ],
   "source": [
    "import matplotlib as mpl\n",
    "\n",
    "fig, ax = plt.subplots(figsize=(12,6))\n",
    "\n",
    "ax = births_by_day.plot(ax=ax)\n",
    "\n",
    "plt.legend().remove()\n",
    "\n",
    "ax.set(ylabel='Average births per day', \n",
    "       title='The number of births per day, within each month')\n",
    "\n",
    "\n",
    "# Adding annotations\n",
    "\n",
    "style = dict(size=12, color='#fc4f30')\n",
    "\n",
    "ax.text('2012-1-1', 3950, \"New year's day\", **style)\n",
    "ax.text('2012-7-4', 4250, \"Independence day\", ha='center', **style)\n",
    "ax.text('2012-9-4', 4850, \"Labor Day\", ha='center', **style)\n",
    "ax.text('2012-10-31', 4600, \"Halloween\", ha='right', **style)\n",
    "ax.text('2012-11-25', 4450, \"Thanksgiving\", ha='center', **style)\n",
    "ax.text('2012-12-25', 3850, \"Christmas \", ha='right', **style)\n",
    "\n",
    "# Centering x-axis labels\n",
    "\n",
    "ax.xaxis.set_major_locator(mpl.dates.MonthLocator())\n",
    "ax.xaxis.set_minor_locator(mpl.dates.MonthLocator(bymonthday=15))\n",
    "ax.xaxis.set_major_formatter(plt.NullFormatter())\n",
    "ax.xaxis.set_minor_formatter(mpl.dates.DateFormatter('%h'));"
   ]
  },
  {
   "cell_type": "markdown",
   "metadata": {
    "papermill": {
     "duration": 0.053783,
     "end_time": "2020-10-10T16:20:58.298260",
     "exception": false,
     "start_time": "2020-10-10T16:20:58.244477",
     "status": "completed"
    },
    "tags": []
   },
   "source": [
    "The graph depicts a marked reduction in births on national holidays in the United States."
   ]
  }
 ],
 "metadata": {
  "kernelspec": {
   "display_name": "Python 3",
   "language": "python",
   "name": "python3"
  },
  "language_info": {
   "codemirror_mode": {
    "name": "ipython",
    "version": 3
   },
   "file_extension": ".py",
   "mimetype": "text/x-python",
   "name": "python",
   "nbconvert_exporter": "python",
   "pygments_lexer": "ipython3",
   "version": "3.7.6"
  },
  "papermill": {
   "duration": 11.867707,
   "end_time": "2020-10-10T16:20:58.461552",
   "environment_variables": {},
   "exception": null,
   "input_path": "__notebook__.ipynb",
   "output_path": "__notebook__.ipynb",
   "parameters": {},
   "start_time": "2020-10-10T16:20:46.593845",
   "version": "2.1.0"
  }
 },
 "nbformat": 4,
 "nbformat_minor": 4
}
